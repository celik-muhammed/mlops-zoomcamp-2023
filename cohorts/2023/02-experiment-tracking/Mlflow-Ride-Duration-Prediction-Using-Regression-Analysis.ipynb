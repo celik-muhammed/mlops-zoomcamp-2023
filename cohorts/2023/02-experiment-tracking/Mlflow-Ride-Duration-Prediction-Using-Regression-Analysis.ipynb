{
 "cells": [
  {
   "cell_type": "markdown",
   "id": "2525fb2f",
   "metadata": {},
   "source": [
    "<div style=\"align: center;\">\n",
    "    <br>\n",
    "    <img src=\"https://www.nyc.gov/assets/tlc/images/content/hero/MRP-Closing-Week.jpg\" style=\"display:block; margin:auto; width:65%; height:250px;\">\n",
    "</div><br><br> \n",
    "\n",
    "<div style=\"letter-spacing:normal; opacity:1.;\">\n",
    "<!--   https://xkcd.com/color/rgb/   -->\n",
    "  <p style=\"text-align:center; background-color: lightsalmon; color: Jaguar; border-radius:10px; font-family:monospace; \n",
    "            line-height:1.4; font-size:32px; font-weight:bold; text-transform: uppercase; padding: 9px;\">\n",
    "            <strong>TLC Trip Record Data</strong></p>  \n",
    "  \n",
    "  <p style=\"text-align:center; background-color:romance; color: Jaguar; border-radius:10px; font-family:monospace; \n",
    "            line-height:1.4; font-size:22px; font-weight:normal; text-transform: capitalize; padding: 5px;\"\n",
    "     >Machine Learning Module: MLFLOW - Ride Duration Prediction using Regression Analysis<br>( MLFLOW )</p>    \n",
    "</div>\n",
    "\n",
    "- https://mlflow.org/docs/0.7.0/index.html"
   ]
  },
  {
   "cell_type": "markdown",
   "id": "32a8b00d",
   "metadata": {},
   "source": [
    "**Dataset Info**\n",
    "\n",
    "\n",
    "**Context**\n",
    "\n",
    "Yellow and green taxi trip records include fields capturing pick-up and drop-off dates/times, pick-up and drop-off locations, trip distances, itemized fares, rate types, payment types, and driver-reported passenger counts. The data used in the attached datasets were collected and provided to the NYC Taxi and Limousine Commission (TLC) by technology providers authorized under the Taxicab & Livery Passenger Enhancement Programs (TPEP/LPEP). The trip data was not created by the TLC, and TLC makes no representations as to the accuracy of these data.\n",
    "\n",
    "For-Hire Vehicle (“FHV”) trip records include fields capturing the dispatching base license number and the pick-up date, time, and taxi zone location ID (shape file below). These records are generated from the FHV Trip Record submissions made by bases. Note: The TLC publishes base trip record data as submitted by the bases, and we cannot guarantee or confirm their accuracy or completeness. Therefore, this may not represent the total amount of trips dispatched by all TLC-licensed bases. The TLC performs routine reviews of the records and takes enforcement actions when necessary to ensure, to the extent possible, complete and accurate information.\n",
    "\n",
    "\n",
    "**ATTENTION!**\n",
    "\n",
    "On 05/13/2022, we are making the following changes to trip record files:\n",
    "\n",
    "- All files will be stored in the PARQUET format. Please see the ‘Working With PARQUET Format’ under the Data Dictionaries and MetaData section.\n",
    "- Trip data will be published monthly (with two months delay) instead of bi-annually.\n",
    "- HVFHV files will now include 17 more columns (please see High Volume FHV Trips Dictionary for details). Additional columns will be added to the old files as well. The earliest date to include additional columns: February 2019.\n",
    "- Yellow trip data will now include 1 additional column (‘airport_fee’, please see Yellow Trips Dictionary for details). The additional column will be added to the old files as well. The earliest date to include the additional column: January 2011.\n",
    "\n",
    "\n",
    "**Download the data for January, February and March 2022**\n",
    "\n",
    "Dataset: https://www.nyc.gov/site/tlc/about/tlc-trip-record-data.page\n",
    "\n",
    "\n",
    "**Data Dictionaries and MetaData**\n",
    "\n",
    "- We'll use the same `NYC taxi dataset`, but instead of \"Yellow Taxi Trip Records\", we'll use `\"Green Taxi Trip Records\"`.\n",
    "\n",
    "> `Green Trips Data Dictionary`: https://www.nyc.gov/assets/tlc/downloads/pdf/data_dictionary_trip_records_green.pdf"
   ]
  },
  {
   "cell_type": "markdown",
   "id": "33b74ab3",
   "metadata": {},
   "source": [
    "**TASK**\n",
    "\n",
    "The goal of this homework is to get familiar with tools like MLflow for experiment tracking and model management.<br>\n",
    "\n",
    "Questions: https://github.com/DataTalksClub/mlops-zoomcamp/blob/main/cohorts/2023/02-experiment-tracking/homework.md\n",
    "\n",
    "\n",
    "**Table of Content**\n",
    "\n",
    "\n",
    "1. Import Libraries and Ingest Data\n",
    "    - Q1: Install the package.<br>    \n",
    "2. Recognizing and Understanding Data\n",
    "    - Q2. Download and preprocess the data<br>\n",
    "    "
   ]
  },
  {
   "cell_type": "markdown",
   "id": "78138c11",
   "metadata": {},
   "source": [
    "<div style=\"letter-spacing:normal; opacity:1.;\">\n",
    "  <h1 style=\"text-align:center; background-color: lightsalmon; color: Jaguar; border-radius:10px; font-family:monospace; border-radius:20px;\n",
    "            line-height:1.4; font-size:32px; font-weight:bold; text-transform: uppercase; padding: 9px;\">\n",
    "            <strong>1. Import Libraries & Ingest Data</strong></h1>   \n",
    "</div>\n",
    "\n",
    "**pip freeze**\n",
    "\n",
    "- https://docs.conda.io/projects/conda/en/4.6.0/_downloads/52a95608c49671267e40c689e0bc00ca/conda-cheatsheet.pdf\n",
    "\n",
    "```\n",
    "- command1 & command2  # runs simultaneously\n",
    "- command1 ; command2  # runs sequentially\n",
    "- command1 && command2 # runs sequentially, runs command2 only if command1 succeeds\n",
    "- command1 || command2 # runs sequentially, runs command2 only if command1 fails\n",
    "```"
   ]
  },
  {
   "cell_type": "code",
   "execution_count": 1,
   "id": "30ff0272",
   "metadata": {},
   "outputs": [],
   "source": [
    "# !cat /etc/os-release\n",
    "# !grep -E -w 'VERSION|NAME|PRETTY_NAME' /etc/os-release"
   ]
  },
  {
   "cell_type": "code",
   "execution_count": 2,
   "id": "f916a6f4",
   "metadata": {
    "scrolled": false
   },
   "outputs": [],
   "source": [
    "# # %%capture cap --no-stderr  # capture outputs  # cap.show()\n",
    "\n",
    "# !conda create --name \"exp-tracking-env-py39\" python=3.9  jupyter -y > outputs.txt && tail -12 outputs.txt\n",
    "\n",
    "# # run in termanal\n",
    "# # conda activate exp-tracking-env-py39"
   ]
  },
  {
   "cell_type": "code",
   "execution_count": 3,
   "id": "a54cd9d0",
   "metadata": {},
   "outputs": [],
   "source": [
    "# check enviroment\n",
    "# !conda env list\n",
    "# !conda info -e\n",
    "# !conda info | grep 'active env'"
   ]
  },
  {
   "cell_type": "code",
   "execution_count": 4,
   "id": "23feabba",
   "metadata": {},
   "outputs": [],
   "source": [
    "import os\n",
    "# Get the current working directory\n",
    "# current_dir = os.getcwd()\n",
    "\n",
    "# Create a new directory for storing MLflow data\n",
    "os.makedirs('./data', exist_ok=True)"
   ]
  },
  {
   "cell_type": "code",
   "execution_count": 5,
   "id": "74723240",
   "metadata": {},
   "outputs": [
    {
     "name": "stdout",
     "output_type": "stream",
     "text": [
      "Overwriting ./data/requirements.txt\n"
     ]
    }
   ],
   "source": [
    "%%writefile ./data/requirements.txt \n",
    "# To get started with MLflow you'll need to install the appropriate Python package.\n",
    "pandas==2.0.2\n",
    "fastparquet==2023.4.0\n",
    "# pyarrow==11.0.0\n",
    "seaborn==0.12.2\n",
    "scikit-learn==1.2.2\n",
    "xgboost==1.7.5\n",
    "hyperopt==0.2.7\n",
    "\n",
    "jupyter==1.0.0\n",
    "mlflow==2.3.2\n",
    "wandb==0.15.4\n",
    "boto3==1.26.144\n",
    "setuptools==67.7.2"
   ]
  },
  {
   "cell_type": "code",
   "execution_count": 6,
   "id": "69a8c258",
   "metadata": {
    "scrolled": false
   },
   "outputs": [
    {
     "name": "stdout",
     "output_type": "stream",
     "text": [
      "Python  : 3.9.16 (main, Mar  8 2023, 14:00:05) \n",
      "[GCC 11.2.0]\n",
      "Platform: Linux-5.10.102.1-microsoft-standard-WSL2-x86_64-with-glibc2.35\n",
      "Actv Env: base\n"
     ]
    }
   ],
   "source": [
    "import os, sys, platform\n",
    "print(\"Python  :\", sys.version)\n",
    "print(\"Platform:\", platform.platform())\n",
    "print(\"Actv Env:\", os.environ['CONDA_DEFAULT_ENV'])\n",
    "\n",
    "# !{sys.executable} -m pip install -r ./data/requirements.txt -Uq"
   ]
  },
  {
   "cell_type": "code",
   "execution_count": 7,
   "id": "81ffeeb2",
   "metadata": {},
   "outputs": [
    {
     "data": {
      "text/plain": [
       "0"
      ]
     },
     "execution_count": 7,
     "metadata": {},
     "output_type": "execute_result"
    }
   ],
   "source": [
    "import numpy as np\n",
    "import pandas as pd\n",
    "import matplotlib as mpl\n",
    "import matplotlib.pyplot as plt\n",
    "import seaborn as sns\n",
    "\n",
    "from scipy.stats import stats\n",
    "\n",
    "import mlflow\n",
    "import wandb\n",
    "import pickle\n",
    "from glob import glob\n",
    "from tqdm import tqdm\n",
    "tqdm._instances.clear()\n",
    "\n",
    "# memory management performs garbage collection \n",
    "import gc\n",
    "gc.collect()"
   ]
  },
  {
   "cell_type": "markdown",
   "id": "1f41e352",
   "metadata": {},
   "source": [
    "## Q1. Install the package\n",
    "\n",
    "To get started with MLflow you'll need to install the appropriate Python package.\n",
    "\n",
    "For this we recommend creating a separate Python environment, for example, you can use [conda environments](https://docs.conda.io/projects/conda/en/latest/user-guide/getting-started.html#managing-envs), \n",
    "and then install the package there with `pip` or `conda`.\n",
    "\n",
    "Once you installed the package, run the command `mlflow --version` and check the output.\n",
    "\n",
    "- **What's the version that you have?**"
   ]
  },
  {
   "cell_type": "code",
   "execution_count": 8,
   "id": "c1962944",
   "metadata": {},
   "outputs": [
    {
     "name": "stdout",
     "output_type": "stream",
     "text": [
      "mlflow.__version__:  2.3.2\n",
      "wandb.__version__ :  0.15.4\n"
     ]
    }
   ],
   "source": [
    "# from mlflow.tracking import MlflowClient\n",
    "# from mlflow.exceptions import MlflowException\n",
    "import mlflow; print(\"mlflow.__version__: \", mlflow.__version__)\n",
    "import wandb;  print(\"wandb.__version__ : \", wandb.__version__)"
   ]
  },
  {
   "cell_type": "markdown",
   "id": "cb564b98",
   "metadata": {},
   "source": [
    "<div style=\"letter-spacing:normal; opacity:1.;\">\n",
    "  <h1 style=\"text-align:center; background-color: lightsalmon; color: Jaguar; border-radius:10px; font-family:monospace; border-radius:20px;\n",
    "            line-height:1.4; font-size:32px; font-weight:bold; text-transform: uppercase; padding: 9px;\">\n",
    "            <strong>2. Recognizing and Understanding Data</strong></h1>   \n",
    "</div>"
   ]
  },
  {
   "cell_type": "markdown",
   "id": "fada2c5e",
   "metadata": {},
   "source": [
    "## Q2. Download and preprocess the data\n",
    "\n",
    "We'll use the Green Taxi Trip Records dataset to predict the amount of tips for each trip. \n",
    "\n",
    "Download the data for January, February and March 2022 in parquet format from [here](https://www1.nyc.gov/site/tlc/about/tlc-trip-record-data.page).\n",
    "\n",
    "Use the script `preprocess_data.py` located in the folder [`homework`](https://github.com/DataTalksClub/mlops-zoomcamp/tree/main/cohorts/2023/02-experiment-tracking/homework) to preprocess the data.\n",
    "\n",
    "The script will:\n",
    "\n",
    "* load the data from the folder `<TAXI_DATA_FOLDER>` (the folder where you have downloaded the data),\n",
    "* fit a `DictVectorizer` on the training set (January 2022 data),\n",
    "* save the preprocessed datasets and the `DictVectorizer` to disk.\n",
    "\n",
    "\n",
    "**Your task is to download the datasets and then execute this command:**\n",
    "\n",
    "```\n",
    "python preprocess_data.py --raw_data_path <TAXI_DATA_FOLDER> --dest_path ./output\n",
    "```\n",
    "\n",
    "Tip: go to `02-experiment-tracking/homework/` folder before executing the command and change the value of `<TAXI_DATA_FOLDER>` to the location where you saved the data.\n",
    "\n",
    "- **So what's the size of the saved `DictVectorizer` file?**"
   ]
  },
  {
   "cell_type": "markdown",
   "id": "ebb5b120",
   "metadata": {},
   "source": [
    "## Ingest Data [wget](https://linuxways.net/centos/linux-wget-command-with-examples/) or [curl](https://daniel.haxx.se/blog/2020/09/10/store-the-curl-output-over-there/)"
   ]
  },
  {
   "cell_type": "code",
   "execution_count": 9,
   "id": "7e2a3fc1",
   "metadata": {},
   "outputs": [],
   "source": [
    "# \"Green Taxi Trip Records\" Download the data for January, February and March 2022\n",
    "!wget -q -N -P \"./data/trip-data\" https://d37ci6vzurychx.cloudfront.net/trip-data/green_tripdata_2022-01.parquet\n",
    "!wget -q -N -P \"./data/trip-data\" https://d37ci6vzurychx.cloudfront.net/trip-data/green_tripdata_2022-02.parquet\n",
    "!wget -q -N -P \"./data/trip-data\" https://d37ci6vzurychx.cloudfront.net/trip-data/green_tripdata_2022-03.parquet"
   ]
  },
  {
   "cell_type": "code",
   "execution_count": 10,
   "id": "044ce591",
   "metadata": {},
   "outputs": [
    {
     "data": {
      "text/plain": [
       "['./data/trip-data/green_tripdata_2022-01.parquet',\n",
       " './data/trip-data/green_tripdata_2022-02.parquet',\n",
       " './data/trip-data/green_tripdata_2022-03.parquet']"
      ]
     },
     "execution_count": 10,
     "metadata": {},
     "output_type": "execute_result"
    }
   ],
   "source": [
    "glob(f'./data/trip-data/green*.parquet')"
   ]
  },
  {
   "cell_type": "code",
   "execution_count": 11,
   "id": "f7e470d1",
   "metadata": {},
   "outputs": [
    {
     "name": "stdout",
     "output_type": "stream",
     "text": [
      "Overwriting ./data/preprocess_data.py\n"
     ]
    }
   ],
   "source": [
    "%%writefile ./data/preprocess_data.py\n",
    "\n",
    "# Source: https://github.com/DataTalksClub/mlops-zoomcamp/blob/main/cohorts/2023/02-experiment-tracking/homework/preprocess_data.py\n",
    "\n",
    "import os\n",
    "import pickle\n",
    "import click\n",
    "import pandas as pd\n",
    "\n",
    "from sklearn.feature_extraction import DictVectorizer\n",
    "\n",
    "\n",
    "def dump_pickle(obj, filename: str):\n",
    "    with open(filename, \"wb\") as f_out:\n",
    "        return pickle.dump(obj, f_out)\n",
    "\n",
    "\n",
    "def read_dataframe(filename: str):\n",
    "    df = pd.read_parquet(filename)\n",
    "\n",
    "    df['duration'] = df['lpep_dropoff_datetime'] - df['lpep_pickup_datetime']\n",
    "    df.duration = df.duration.apply(lambda td: td.total_seconds() / 60)\n",
    "    df = df[(df.duration >= 1) & (df.duration <= 60)]\n",
    "\n",
    "    categorical = ['PULocationID', 'DOLocationID']\n",
    "    df[categorical] = df[categorical].astype(str)\n",
    "\n",
    "    return df\n",
    "\n",
    "\n",
    "def preprocess(df: pd.DataFrame, dv: DictVectorizer, fit_dv: bool = False):\n",
    "    df['PU_DO'] = df['PULocationID'] + '_' + df['DOLocationID']\n",
    "    categorical = ['PU_DO']\n",
    "    numerical = ['trip_distance']\n",
    "    dicts = df[categorical + numerical].to_dict(orient='records')\n",
    "    if fit_dv:\n",
    "        X = dv.fit_transform(dicts)\n",
    "    else:\n",
    "        X = dv.transform(dicts)\n",
    "    return X, dv\n",
    "\n",
    "\n",
    "@click.command()\n",
    "@click.option(\n",
    "    \"--raw_data_path\",\n",
    "    help=\"Location where the raw NYC taxi trip data was saved\"\n",
    ")\n",
    "@click.option(\n",
    "    \"--dest_path\",\n",
    "    default=\"./output\",\n",
    "    help=\"Location where the resulting files will be saved\"\n",
    ")\n",
    "def run_data_prep(raw_data_path: str, dest_path: str, dataset: str = \"green\"):\n",
    "    # Load parquet files\n",
    "    df_train = read_dataframe(\n",
    "        os.path.join(raw_data_path, f\"{dataset}_tripdata_2022-01.parquet\")\n",
    "    )\n",
    "    df_val = read_dataframe(\n",
    "        os.path.join(raw_data_path, f\"{dataset}_tripdata_2022-02.parquet\")\n",
    "    )\n",
    "    df_test = read_dataframe(\n",
    "        os.path.join(raw_data_path, f\"{dataset}_tripdata_2022-03.parquet\")\n",
    "    )\n",
    "\n",
    "    # Extract the target\n",
    "    target = 'tip_amount'\n",
    "    y_train = df_train[target].values\n",
    "    y_val = df_val[target].values\n",
    "    y_test = df_test[target].values\n",
    "\n",
    "    # Fit the DictVectorizer and preprocess data\n",
    "    dv = DictVectorizer()\n",
    "    X_train, dv = preprocess(df_train, dv, fit_dv=True)\n",
    "    X_val, _ = preprocess(df_val, dv, fit_dv=False)\n",
    "    X_test, _ = preprocess(df_test, dv, fit_dv=False)\n",
    "\n",
    "    # Create dest_path folder unless it already exists\n",
    "    os.makedirs(dest_path, exist_ok=True)\n",
    "\n",
    "    # Save DictVectorizer and datasets\n",
    "    dump_pickle(dv, os.path.join(dest_path, \"dv.pkl\"))\n",
    "    dump_pickle((X_train, y_train), os.path.join(dest_path, \"train.pkl\"))\n",
    "    dump_pickle((X_val, y_val), os.path.join(dest_path, \"val.pkl\"))\n",
    "    dump_pickle((X_test, y_test), os.path.join(dest_path, \"test.pkl\"))\n",
    "\n",
    "\n",
    "if __name__ == '__main__':\n",
    "    run_data_prep()"
   ]
  },
  {
   "cell_type": "code",
   "execution_count": 12,
   "id": "77a41360",
   "metadata": {},
   "outputs": [],
   "source": [
    "TAXI_DATA_FOLDER = f\"./data/trip-data\"\n",
    "\n",
    "!python ./data/preprocess_data.py --raw_data_path $TAXI_DATA_FOLDER --dest_path ./data/output"
   ]
  },
  {
   "cell_type": "code",
   "execution_count": 13,
   "id": "716154a1",
   "metadata": {},
   "outputs": [
    {
     "name": "stdout",
     "output_type": "stream",
     "text": [
      "153660\n",
      "152K\n"
     ]
    }
   ],
   "source": [
    "# So what's the size of the saved DictVectorizer file?\n",
    "!stat ./data/output/dv.pkl  | grep Size:       | awk '{print $2}'\n",
    "!du -h ./data/output/dv.pkl | awk '{print $1}'"
   ]
  },
  {
   "cell_type": "markdown",
   "id": "c80d15b3",
   "metadata": {},
   "source": [
    "## Q3. Train a model with autolog\n",
    "\n",
    "We will train a `RandomForestRegressor` (from Scikit-Learn) on the taxi dataset.\n",
    "\n",
    "We have prepared the training script `train.py` for this exercise, which can be also found in the folder [`homework`](https://github.com/DataTalksClub/mlops-zoomcamp/tree/main/cohorts/2023/02-experiment-tracking/homework). \n",
    "\n",
    "The script will:\n",
    "\n",
    "* load the datasets produced by the previous step,\n",
    "* train the model on the training set,\n",
    "* calculate the RMSE score on the validation set.\n",
    "\n",
    "Your task is to modify the script to enable [**autologging**](https://mlflow.org/docs/latest/tracking.html#automatic-logging) with MLflow, execute the script and then launch the MLflow UI to check that the experiment run was properly tracked. \n",
    "\n",
    "Tip 1: don't forget to wrap the training code with a `with mlflow.start_run():` statement as we showed in the videos.\n",
    "\n",
    "Tip 2: don't modify the hyperparameters of the model to make sure that the training will finish quickly.\n",
    "\n",
    "\n",
    "mlflow-remote code:\n",
    "- https://reimbar.org/dev/mlflow-remote/\n",
    "- https://www.mlflow.org/docs/latest/tracking.html#how-runs-and-artifacts-are-recorded\n",
    "- Run Terminal: \n",
    "\n",
    "```\n",
    "# if using port 5000 or use another port\n",
    "kill $(lsof -ti :5000)   # clear port 5000\n",
    "\n",
    "# after set_experiment (building mlflow.db), go to bash cd path to mlruns folder\n",
    "mlflow ui \\\n",
    "    --backend-store-uri sqlite:///mlflow.db \\\n",
    "    --default-artifact-root  file:mlruns \\\n",
    "    --host localhost --port 5000   \n",
    "```\n",
    "\n",
    "<br>\n",
    "\n",
    "- **What is the value of the `max_depth` parameter?**"
   ]
  },
  {
   "cell_type": "code",
   "execution_count": 14,
   "id": "672d484f",
   "metadata": {},
   "outputs": [],
   "source": [
    "# for Notebook, we will define in train.py\n",
    "# import mlflow\n",
    "\n",
    "# # Set the tracking URI to a local Database directory\n",
    "# # mlflow.set_tracking_uri(f\"file:./data/mlflow\")\n",
    "# mlflow.set_tracking_uri(f\"sqlite:///mlflow.db\")\n",
    "# print(f\"tracking URI: '{mlflow.get_tracking_uri()}'\")\n",
    "\n",
    "# mlflow.set_experiment(\"random-forest-train\")"
   ]
  },
  {
   "cell_type": "code",
   "execution_count": 17,
   "id": "19460a9f",
   "metadata": {},
   "outputs": [
    {
     "name": "stdout",
     "output_type": "stream",
     "text": [
      "Overwriting ./data/train.py\n"
     ]
    }
   ],
   "source": [
    "%%writefile ./data/train.py\n",
    "\n",
    "import os\n",
    "import click\n",
    "import pickle\n",
    "import mlflow\n",
    "\n",
    "from sklearn.ensemble import RandomForestRegressor\n",
    "from sklearn.metrics import mean_squared_error\n",
    "\n",
    "import warnings\n",
    "# Ignore all warnings\n",
    "# warnings.filterwarnings(\"ignore\")\n",
    "# Filter the specific warning message, MLflow autologging encountered a warning\n",
    "# warnings.filterwarnings(\"ignore\", category=UserWarning, module=\"setuptools\")\n",
    "warnings.filterwarnings(\"ignore\", category=UserWarning, message=\"Setuptools is replacing distutils.\")\n",
    "\n",
    "# Set mlflow options\n",
    "# Build or Connect Database Offline\n",
    "mlflow.set_tracking_uri(\"sqlite:///mlflow.db\")\n",
    "# Connect Database Online\n",
    "# mlflow.set_tracking_uri(\"http://127.0.0.1:5000\")\n",
    "\n",
    "# Build or Connect mlflow experiment\n",
    "EXPERIMENT_NAME = \"random-forest-train\"\n",
    "mlflow.set_experiment(EXPERIMENT_NAME)\n",
    "\n",
    "\n",
    "def load_pickle(filename: str):\n",
    "    with open(filename, \"rb\") as f_in:\n",
    "        return pickle.load(f_in)\n",
    "\n",
    "\n",
    "@click.command()\n",
    "@click.option(\n",
    "    \"--data_path\",\n",
    "    default=\"./output\",\n",
    "    help=\"Location where the processed NYC taxi trip data was saved\"\n",
    ")\n",
    "@click.option(\n",
    "    \"--dest_path\",\n",
    "    default=\"./models\",\n",
    "    help=\"Location where the resulting files will be saved\"\n",
    ")\n",
    "def run_train(data_path: str, dest_path: str):\n",
    "    # Load train and test Data\n",
    "    X_train, y_train = load_pickle(os.path.join(data_path, \"train.pkl\"))\n",
    "    X_val, y_val     = load_pickle(os.path.join(data_path, \"val.pkl\"))\n",
    "            \n",
    "    # before your training code to enable automatic logging of sklearn metrics, params, and models\n",
    "    mlflow.sklearn.autolog()\n",
    "    \n",
    "    with mlflow.start_run():\n",
    "        # Optional: Set some information about Model\n",
    "        mlflow.set_tag(\"developer\", \"muce\")\n",
    "        mlflow.log_param(\"train-data-path\", f'{data_path}/train.pkl')\n",
    "        mlflow.log_param(\"valid-data-path\", f'{data_path}/val.pkl')\n",
    "        mlflow.log_param(\"test-data-path\",  f'{data_path}/test.pkl')        \n",
    "        \n",
    "        # Set Model params information\n",
    "        params = {\"max_depth\": 10, \"random_state\": 0}\n",
    "        mlflow.log_params(params)\n",
    "        \n",
    "        # Build Model        \n",
    "        rf     = RandomForestRegressor(**params)\n",
    "        rf.fit(X_train, y_train)\n",
    "        y_pred = rf.predict(X_val)\n",
    "        # autolog_run = mlflow.last_active_run()\n",
    "\n",
    "        # Set Model Evaluation Metric\n",
    "        rmse = mean_squared_error(y_val, y_pred, squared=False)\n",
    "        mlflow.log_metric(\"rmse\", rmse)\n",
    "        \n",
    "        # Create dest_path folder unless it already exists\n",
    "        os.makedirs(dest_path, exist_ok=True)\n",
    "                \n",
    "        # Log Model two options\n",
    "        # Option1: Just log model as pickle\n",
    "        mlflow.sklearn.log_model(sk_model = rf, artifact_path = \"models_mlflow\")\n",
    "                \n",
    "        # Option 2: save Model, Optional: Preprocessor or Pipeline  \n",
    "        local_path = os.path.join(dest_path, \"ride_duration_rf_model.bin\")\n",
    "        with open(local_path, 'wb') as f_out:\n",
    "            pickle.dump(rf, f_out)\n",
    "            \n",
    "        # whole proccess like pickle, saved Model, Optional: Preprocessor or Pipeline\n",
    "        mlflow.log_artifact(local_path = local_path, artifact_path=\"models_pickle\")        \n",
    "        \n",
    "        print(f\"default artifacts URI: '{mlflow.get_artifact_uri()}'\")\n",
    "\n",
    "\n",
    "if __name__ == '__main__':\n",
    "    run_train()"
   ]
  },
  {
   "cell_type": "code",
   "execution_count": 18,
   "id": "c37facac",
   "metadata": {},
   "outputs": [
    {
     "name": "stdout",
     "output_type": "stream",
     "text": [
      "default artifacts URI: '/mnt/c/Users/clk/Jupyter_Notebook/mlops-zoomcamp-2023/cohorts/2023/02-experiment-tracking/mlruns/1/e687295976ca4f06abd118396a98a227/artifacts'\r\n"
     ]
    }
   ],
   "source": [
    "DATA_FOLDER = f\"./data/output\"\n",
    "\n",
    "# run then check mlflow ui\n",
    "!python ./data/train.py --data_path $DATA_FOLDER --dest_path ./data/models"
   ]
  },
  {
   "cell_type": "markdown",
   "id": "f28e64cb",
   "metadata": {},
   "source": [
    "# Q4. Tune model hyperparameters\n",
    "\n",
    "- https://optuna.readthedocs.io/en/stable/reference/generated/optuna.study.Study.html#optuna.study.Study.optimize\n",
    "\n",
    "Now let's try to reduce the validation error by tuning the hyperparameters of the RandomForestRegressor using optuna. We have prepared the script hpo.py for this exercise.\n",
    "\n",
    "Your task is to modify the script hpo.py and make sure that the validation RMSE is logged to the tracking server for each run of the hyperparameter optimization (you will need to add a few lines of code to the objective function) and run the script without passing any parameters.\n",
    "\n",
    "After that, open UI and explore the runs from the experiment called random-forest-hyperopt to answer the question below.\n",
    "\n",
    "Note: Don't use autologging for this exercise.\n",
    "\n",
    "The idea is to just log the information that you need to answer the question below, including:\n",
    "\n",
    "the list of hyperparameters that are passed to the objective function during the optimization,\n",
    "the RMSE obtained on the validation set (February 2022 data).\n",
    "\n",
    "- **What's the best validation RMSE that you got?**"
   ]
  },
  {
   "cell_type": "code",
   "execution_count": 19,
   "id": "ec69513f",
   "metadata": {},
   "outputs": [
    {
     "name": "stdout",
     "output_type": "stream",
     "text": [
      "Overwriting ./data/hpo.py\n"
     ]
    }
   ],
   "source": [
    "%%writefile ./data/hpo.py\n",
    "\n",
    "import os\n",
    "import pickle\n",
    "import click\n",
    "import mlflow\n",
    "import optuna\n",
    "\n",
    "from optuna.samplers import TPESampler\n",
    "from sklearn.ensemble import RandomForestRegressor\n",
    "from sklearn.metrics import mean_squared_error\n",
    "\n",
    "\n",
    "# Set mlflow options\n",
    "# Build or Connect Database Offline\n",
    "mlflow.set_tracking_uri(\"sqlite:///mlflow.db\")\n",
    "# Connect Database Online\n",
    "# mlflow.set_tracking_uri(\"http://127.0.0.1:5000\")\n",
    "\n",
    "# Build or Connect mlflow experiment\n",
    "HPO_EXPERIMENT_NAME = \"random-forest-hyperopt\"\n",
    "mlflow.set_experiment(HPO_EXPERIMENT_NAME)\n",
    "\n",
    "\n",
    "def load_pickle(filename):\n",
    "    with open(filename, \"rb\") as f_in:\n",
    "        return pickle.load(f_in)\n",
    "\n",
    "\n",
    "@click.command()\n",
    "@click.option(\n",
    "    \"--data_path\",\n",
    "    default=\"./output\",\n",
    "    help=\"Location where the processed NYC taxi trip data was saved\"\n",
    ")\n",
    "@click.option(\n",
    "    \"--num_trials\",\n",
    "    default=10,\n",
    "    help=\"The number of parameter evaluations for the optimizer to explore\"\n",
    ")\n",
    "def run_optimization(data_path: str, num_trials: int):\n",
    "    # Load train and test Data\n",
    "    X_train, y_train = load_pickle(os.path.join(data_path, \"train.pkl\"))\n",
    "    X_val, y_val = load_pickle(os.path.join(data_path, \"val.pkl\"))        \n",
    "\n",
    "    # before your training code to disable automatic logging of sklearn metrics, params, and models\n",
    "    mlflow.sklearn.autolog(disable=True)\n",
    "    \n",
    "    def objective(trial):\n",
    "        params = {\n",
    "            'n_estimators'     : trial.suggest_int('n_estimators', 10, 50, 1),\n",
    "            'max_depth'        : trial.suggest_int('max_depth', 1, 20, 1),\n",
    "            'min_samples_split': trial.suggest_int('min_samples_split', 2, 10, 1),\n",
    "            'min_samples_leaf' : trial.suggest_int('min_samples_leaf', 1, 4, 1),\n",
    "            'random_state'     : 42,\n",
    "            'n_jobs'           : -1\n",
    "        }\n",
    "        with mlflow.start_run(nested=True):\n",
    "            # Log the model params to the tracking server\n",
    "            mlflow.log_params(params)\n",
    "            \n",
    "            # Build Model   \n",
    "            rf = RandomForestRegressor(**params)\n",
    "            rf.fit(X_train, y_train)\n",
    "            \n",
    "            # Log the validation RMSE to the tracking server\n",
    "            y_pred = rf.predict(X_val)\n",
    "            rmse   = mean_squared_error(y_val, y_pred, squared=False)\n",
    "            mlflow.log_metric(\"rmse\", rmse)\n",
    "\n",
    "        return rmse\n",
    "\n",
    "    sampler = TPESampler(seed=42)\n",
    "    study   = optuna.create_study(direction=\"minimize\", sampler=sampler)\n",
    "    study.optimize(func = objective, n_trials=num_trials, n_jobs=-1)\n",
    "\n",
    "\n",
    "if __name__ == '__main__':\n",
    "    run_optimization()"
   ]
  },
  {
   "cell_type": "code",
   "execution_count": 20,
   "id": "86580bdb",
   "metadata": {},
   "outputs": [
    {
     "name": "stdout",
     "output_type": "stream",
     "text": [
      "\u001b[32m[I 2023-06-15 20:58:02,458]\u001b[0m A new study created in memory with name: no-name-831fdc7b-d3f4-4d43-a4a1-554dd39ff7f2\u001b[0m\n",
      "\u001b[32m[I 2023-06-15 20:58:09,809]\u001b[0m Trial 4 finished with value: 2.4560549232430957 and parameters: {'n_estimators': 11, 'max_depth': 15, 'min_samples_split': 7, 'min_samples_leaf': 4}. Best is trial 4 with value: 2.4560549232430957.\u001b[0m\n",
      "\u001b[32m[I 2023-06-15 20:58:10,214]\u001b[0m Trial 3 finished with value: 2.5377777789098612 and parameters: {'n_estimators': 37, 'max_depth': 1, 'min_samples_split': 9, 'min_samples_leaf': 2}. Best is trial 4 with value: 2.4560549232430957.\u001b[0m\n",
      "\u001b[32m[I 2023-06-15 20:58:10,723]\u001b[0m Trial 2 finished with value: 2.484542444196322 and parameters: {'n_estimators': 26, 'max_depth': 2, 'min_samples_split': 10, 'min_samples_leaf': 4}. Best is trial 4 with value: 2.4560549232430957.\u001b[0m\n",
      "\u001b[32m[I 2023-06-15 20:58:11,907]\u001b[0m Trial 7 finished with value: 2.4611494184144354 and parameters: {'n_estimators': 21, 'max_depth': 6, 'min_samples_split': 6, 'min_samples_leaf': 2}. Best is trial 4 with value: 2.4560549232430957.\u001b[0m\n",
      "\u001b[32m[I 2023-06-15 20:58:14,574]\u001b[0m Trial 5 finished with value: 2.45427804236391 and parameters: {'n_estimators': 16, 'max_depth': 14, 'min_samples_split': 8, 'min_samples_leaf': 4}. Best is trial 5 with value: 2.45427804236391.\u001b[0m\n",
      "\u001b[32m[I 2023-06-15 20:58:15,554]\u001b[0m Trial 1 finished with value: 2.462078926794924 and parameters: {'n_estimators': 33, 'max_depth': 15, 'min_samples_split': 9, 'min_samples_leaf': 1}. Best is trial 5 with value: 2.45427804236391.\u001b[0m\n",
      "\u001b[32m[I 2023-06-15 20:58:15,589]\u001b[0m Trial 8 finished with value: 2.5381137667016462 and parameters: {'n_estimators': 46, 'max_depth': 1, 'min_samples_split': 6, 'min_samples_leaf': 2}. Best is trial 5 with value: 2.45427804236391.\u001b[0m\n",
      "\u001b[32m[I 2023-06-15 20:58:16,695]\u001b[0m Trial 0 finished with value: 2.4445628462419258 and parameters: {'n_estimators': 48, 'max_depth': 16, 'min_samples_split': 3, 'min_samples_leaf': 2}. Best is trial 0 with value: 2.4445628462419258.\u001b[0m\n",
      "\u001b[32m[I 2023-06-15 20:58:16,942]\u001b[0m Trial 9 finished with value: 2.45316195058799 and parameters: {'n_estimators': 27, 'max_depth': 10, 'min_samples_split': 5, 'min_samples_leaf': 4}. Best is trial 0 with value: 2.4445628462419258.\u001b[0m\n",
      "\u001b[32m[I 2023-06-15 20:58:17,138]\u001b[0m Trial 6 finished with value: 2.446283499635894 and parameters: {'n_estimators': 40, 'max_depth': 15, 'min_samples_split': 3, 'min_samples_leaf': 2}. Best is trial 0 with value: 2.4445628462419258.\u001b[0m\n"
     ]
    }
   ],
   "source": [
    "DATA_FOLDER = f\"./data/output\"\n",
    "\n",
    "!python ./data/hpo.py --data_path $DATA_FOLDER"
   ]
  },
  {
   "cell_type": "markdown",
   "id": "c0b7ed63",
   "metadata": {},
   "source": [
    "# Q5. Promote the best model to the model registry\n",
    "\n",
    "The results from the hyperparameter optimization are quite good. So, we can assume that we are ready to test some of these models in production. In this exercise, you'll promote the best model to the model registry. We have prepared a script called register_model.py, which will check the results from the previous step and select the top 5 runs. After that, it will calculate the RMSE of those models on the test set (March 2022 data) and save the results to a new experiment called random-forest-best-models.\n",
    "\n",
    "Your task is to update the script register_model.py so that it selects the model with the lowest RMSE on the test set and registers it to the model registry.\n",
    "\n",
    "Tips for MLflow:\n",
    "\n",
    "you can use the method search_runs from the MlflowClient to get the model with the lowest RMSE,\n",
    "to register the model you can use the method mlflow.register_model and you will need to pass the right model_uri in the form of a string that looks like this: \"runs:/<RUN_ID>/model\", and the name of the model (make sure to choose a good one!).\n",
    "\n",
    "- **What is the test RMSE of the best model?**"
   ]
  },
  {
   "cell_type": "code",
   "execution_count": 23,
   "id": "ed695c26",
   "metadata": {},
   "outputs": [],
   "source": [
    "# logged_model = 'runs:/94bb075609a44506bfa9fc0da24327fc/models_mlflow'\n",
    "\n",
    "# # Load model as a PyFuncModel.\n",
    "# loaded_model = mlflow.pyfunc.load_model(logged_model)\n",
    "# loaded_model"
   ]
  },
  {
   "cell_type": "code",
   "execution_count": 24,
   "id": "85387e47",
   "metadata": {},
   "outputs": [
    {
     "name": "stdout",
     "output_type": "stream",
     "text": [
      "Overwriting ./data/register_model.py\n"
     ]
    }
   ],
   "source": [
    "%%writefile ./data/register_model.py\n",
    "\n",
    "import os\n",
    "import pickle\n",
    "import click\n",
    "import mlflow\n",
    "\n",
    "from mlflow.entities import ViewType\n",
    "from mlflow.tracking import MlflowClient\n",
    "from sklearn.ensemble import RandomForestRegressor\n",
    "from sklearn.metrics import mean_squared_error\n",
    "\n",
    "import warnings\n",
    "# Ignore all warnings\n",
    "# warnings.filterwarnings(\"ignore\")\n",
    "# Filter the specific warning message, MLflow autologging encountered a warning\n",
    "# warnings.filterwarnings(\"ignore\", category=UserWarning, module=\"setuptools\")\n",
    "warnings.filterwarnings(\"ignore\", category=UserWarning, message=\"Setuptools is replacing distutils.\")\n",
    "\n",
    "# Set mlflow options\n",
    "# Build or Connect Database Offline\n",
    "mlflow.set_tracking_uri(\"sqlite:///mlflow.db\")\n",
    "# Connect Database Online\n",
    "# mlflow.set_tracking_uri(\"http://127.0.0.1:5000\")\n",
    "\n",
    "# Build or Connect mlflow experiment\n",
    "EXPERIMENT_NAME = \"random-forest-best-models\"\n",
    "mlflow.set_experiment(EXPERIMENT_NAME)\n",
    "mlflow.sklearn.autolog()\n",
    "\n",
    "# Parameters\n",
    "HPO_EXPERIMENT_NAME = \"random-forest-hyperopt\"\n",
    "RF_PARAMS = ['max_depth', 'n_estimators', 'min_samples_split', 'min_samples_leaf', 'random_state', 'n_jobs']\n",
    "\n",
    "\n",
    "def load_pickle(filename):\n",
    "    with open(filename, \"rb\") as f_in:\n",
    "        return pickle.load(f_in)\n",
    "\n",
    "\n",
    "def train_and_log_model(data_path, params):\n",
    "    # Load train, val and test Data\n",
    "    X_train, y_train = load_pickle(os.path.join(data_path, \"train.pkl\"))\n",
    "    X_val, y_val = load_pickle(os.path.join(data_path, \"val.pkl\"))\n",
    "    X_test, y_test = load_pickle(os.path.join(data_path, \"test.pkl\"))\n",
    "\n",
    "    with mlflow.start_run():\n",
    "        for param in RF_PARAMS:\n",
    "            params[param] = int(params[param])\n",
    "            \n",
    "        # Log the model params to the tracking server\n",
    "        mlflow.log_params(params)\n",
    "\n",
    "        # Build Model\n",
    "        rf = RandomForestRegressor(**params)\n",
    "        rf.fit(X_train, y_train)\n",
    "\n",
    "        # Evaluate model on the validation and test sets\n",
    "        val_rmse = mean_squared_error(y_val, rf.predict(X_val), squared=False)\n",
    "        mlflow.log_metric(\"val_rmse\", val_rmse)\n",
    "        test_rmse = mean_squared_error(y_test, rf.predict(X_test), squared=False)\n",
    "        mlflow.log_metric(\"test_rmse\", test_rmse)\n",
    "\n",
    "        # Log the model\n",
    "        mlflow.sklearn.log_model(rf, \"rf-model\")\n",
    "\n",
    "\n",
    "@click.command()\n",
    "@click.option(\n",
    "    \"--data_path\",\n",
    "    default=\"./output\",\n",
    "    help=\"Location where the processed NYC taxi trip data was saved\"\n",
    ")\n",
    "@click.option(\n",
    "    \"--top_n\",\n",
    "    default=5,\n",
    "    type=int,\n",
    "    help=\"Number of top models that need to be evaluated to decide which one to promote\"\n",
    ")\n",
    "def run_register_model(data_path: str, top_n: int):\n",
    "\n",
    "    client = MlflowClient()\n",
    "\n",
    "    # Retrieve the top_n model runs and log the models\n",
    "    experiment = client.get_experiment_by_name(HPO_EXPERIMENT_NAME)\n",
    "    runs = client.search_runs(\n",
    "        experiment_ids=experiment.experiment_id,\n",
    "        run_view_type=ViewType.ACTIVE_ONLY,\n",
    "        max_results=top_n,\n",
    "        order_by=[\"metrics.rmse ASC\"]\n",
    "    )\n",
    "    for run in runs:\n",
    "        train_and_log_model(data_path=data_path, params=run.data.params)\n",
    "\n",
    "    # Select the model with the lowest test RMSE\n",
    "    experiment = client.get_experiment_by_name(EXPERIMENT_NAME)\n",
    "    best_run = client.search_runs(\n",
    "        experiment_ids=experiment.experiment_id,\n",
    "        run_view_type=ViewType.ACTIVE_ONLY,\n",
    "        max_results=1,\n",
    "        order_by=[\"metrics.test_rmse ASC\"]\n",
    "    )[0]\n",
    "\n",
    "    # Register the best model\n",
    "    run_id     = best_run.info.run_id\n",
    "    model_uri  = f\"runs:/{run_id}/model\"\n",
    "    model_name = \"rf-best-model\"\n",
    "    mlflow.register_model(model_uri, name=model_name)\n",
    "\n",
    "    print(\"Test RMSE of the best model: {:.4f}\".format(best_run.data.metrics[\"test_rmse\"]))\n",
    "\n",
    "\n",
    "if __name__ == '__main__':\n",
    "    run_register_model()\n"
   ]
  },
  {
   "cell_type": "code",
   "execution_count": 25,
   "id": "24d9cb21",
   "metadata": {},
   "outputs": [
    {
     "name": "stdout",
     "output_type": "stream",
     "text": [
      "Registered model 'rf-best-model' already exists. Creating a new version of this model...\n",
      "2023/06/15 21:00:43 INFO mlflow.tracking._model_registry.client: Waiting up to 300 seconds for model version to finish creation. Model name: rf-best-model, version 2\n",
      "Created version '2' of model 'rf-best-model'.\n",
      "Test RMSE of the best model: 2.2878\n"
     ]
    }
   ],
   "source": [
    "DATA_FOLDER = f\"./data/output\"\n",
    "\n",
    "!python ./data/register_model.py --data_path $DATA_FOLDER"
   ]
  },
  {
   "cell_type": "markdown",
   "id": "b918a9e6",
   "metadata": {},
   "source": [
    "# Q6. Model metadata\n",
    "\n",
    "**Now explore your best model in the model registry using UI. What information does the model registry contain about each model?**\n",
    "\n",
    "- Version number\n",
    "- Source experiment\n",
    "- Model signature\n",
    "- All the above answers are correct"
   ]
  },
  {
   "cell_type": "markdown",
   "id": "9571d331",
   "metadata": {},
   "source": [
    "- Model Name: The name assigned to the model during registration.\n",
    "\n",
    "- Model Version: The version number assigned to the model during registration. Each version represents a unique iteration or update of the model.\n",
    "\n",
    "- Source: The experiment from which the model was registered. It indicates the origin and context of the model.\n",
    "\n",
    "- Creation Time: The timestamp indicating when the model was registered in the model registry.\n",
    "\n",
    "- Last Modified Time: The timestamp indicating the most recent modification or update made to the model.\n",
    "\n",
    "- User: The username or identity of the user who registered the model.\n",
    "\n",
    "- Run ID: The ID of the MLflow run associated with the model registration.\n",
    "\n",
    "- Artifact Location: The storage location of the model artifacts, such as the saved model files.\n",
    "\n",
    "- Model Signature: The signature of the model, which describes the input and output schema or structure of the model.\n",
    "\n",
    "- Tags: Additional tags or metadata associated with the model. Tags can provide further information or categorization for easy search and organization."
   ]
  },
  {
   "cell_type": "markdown",
   "id": "bf34682f",
   "metadata": {},
   "source": [
    "# End of The Project"
   ]
  }
 ],
 "metadata": {
  "kernelspec": {
   "display_name": "Python 3 (ipykernel)",
   "language": "python",
   "name": "python3"
  },
  "language_info": {
   "codemirror_mode": {
    "name": "ipython",
    "version": 3
   },
   "file_extension": ".py",
   "mimetype": "text/x-python",
   "name": "python",
   "nbconvert_exporter": "python",
   "pygments_lexer": "ipython3",
   "version": "3.9.16"
  },
  "toc": {
   "base_numbering": 1,
   "nav_menu": {},
   "number_sections": true,
   "sideBar": true,
   "skip_h1_title": false,
   "title_cell": "Table of Contents",
   "title_sidebar": "Contents",
   "toc_cell": false,
   "toc_position": {},
   "toc_section_display": true,
   "toc_window_display": false
  }
 },
 "nbformat": 4,
 "nbformat_minor": 5
}
